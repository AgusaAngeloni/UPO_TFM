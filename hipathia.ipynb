{
 "cells": [
  {
   "cell_type": "code",
   "execution_count": 1,
   "id": "6a433c31-cda8-42e3-953b-f5876ee5b4aa",
   "metadata": {},
   "outputs": [],
   "source": [
    "import rpy2.ipython\n",
    "rpy2.ipython.load_ipython_extension(get_ipython())"
   ]
  },
  {
   "cell_type": "code",
   "execution_count": 2,
   "id": "91c7215a-51b3-45af-8d65-8bb6a512ecae",
   "metadata": {
    "scrolled": true
   },
   "outputs": [
    {
     "name": "stderr",
     "output_type": "stream",
     "text": [
      "R[write to console]: Loading required package: SummarizedExperiment\n",
      "\n",
      "R[write to console]: Loading required package: MatrixGenerics\n",
      "\n",
      "R[write to console]: Loading required package: matrixStats\n",
      "\n",
      "R[write to console]: \n",
      "Attaching package: ‘MatrixGenerics’\n",
      "\n",
      "\n",
      "R[write to console]: The following objects are masked from ‘package:matrixStats’:\n",
      "\n",
      "    colAlls, colAnyNAs, colAnys, colAvgsPerRowSet, colCollapse,\n",
      "    colCounts, colCummaxs, colCummins, colCumprods, colCumsums,\n",
      "    colDiffs, colIQRDiffs, colIQRs, colLogSumExps, colMadDiffs,\n",
      "    colMads, colMaxs, colMeans2, colMedians, colMins, colOrderStats,\n",
      "    colProds, colQuantiles, colRanges, colRanks, colSdDiffs, colSds,\n",
      "    colSums2, colTabulates, colVarDiffs, colVars, colWeightedMads,\n",
      "    colWeightedMeans, colWeightedMedians, colWeightedSds,\n",
      "    colWeightedVars, rowAlls, rowAnyNAs, rowAnys, rowAvgsPerColSet,\n",
      "    rowCollapse, rowCounts, rowCummaxs, rowCummins, rowCumprods,\n",
      "    rowCumsums, rowDiffs, rowIQRDiffs, rowIQRs, rowLogSumExps,\n",
      "    rowMadDiffs, rowMads, rowMaxs, rowMeans2, rowMedians, rowMins,\n",
      "    rowOrderStats, rowProds, rowQuantiles, rowRanges, rowRanks,\n",
      "    rowSdDiffs, rowSds, rowSums2, rowTabulates, rowVarDiffs, rowVars,\n",
      "    rowWeightedMads, rowWeightedMeans, rowWeightedMedians,\n",
      "    rowWeightedSds, rowWeightedVars\n",
      "\n",
      "\n",
      "R[write to console]: Loading required package: GenomicRanges\n",
      "\n",
      "R[write to console]: Loading required package: stats4\n",
      "\n",
      "R[write to console]: Loading required package: BiocGenerics\n",
      "\n",
      "R[write to console]: \n",
      "Attaching package: ‘BiocGenerics’\n",
      "\n",
      "\n",
      "R[write to console]: The following objects are masked from ‘package:stats’:\n",
      "\n",
      "    IQR, mad, sd, var, xtabs\n",
      "\n",
      "\n",
      "R[write to console]: The following objects are masked from ‘package:base’:\n",
      "\n",
      "    anyDuplicated, aperm, append, as.data.frame, basename, cbind,\n",
      "    colnames, dirname, do.call, duplicated, eval, evalq, Filter, Find,\n",
      "    get, grep, grepl, intersect, is.unsorted, lapply, Map, mapply,\n",
      "    match, mget, order, paste, pmax, pmax.int, pmin, pmin.int,\n",
      "    Position, rank, rbind, Reduce, rownames, sapply, setdiff, sort,\n",
      "    table, tapply, union, unique, unsplit, which.max, which.min\n",
      "\n",
      "\n",
      "R[write to console]: Loading required package: S4Vectors\n",
      "\n",
      "R[write to console]: \n",
      "Attaching package: ‘S4Vectors’\n",
      "\n",
      "\n",
      "R[write to console]: The following object is masked from ‘package:utils’:\n",
      "\n",
      "    findMatches\n",
      "\n",
      "\n",
      "R[write to console]: The following objects are masked from ‘package:base’:\n",
      "\n",
      "    expand.grid, I, unname\n",
      "\n",
      "\n",
      "R[write to console]: Loading required package: IRanges\n",
      "\n",
      "R[write to console]: Loading required package: GenomeInfoDb\n",
      "\n",
      "R[write to console]: Loading required package: Biobase\n",
      "\n",
      "R[write to console]: Welcome to Bioconductor\n",
      "\n",
      "    Vignettes contain introductory material; view with\n",
      "    'browseVignettes()'. To cite Bioconductor, see\n",
      "    'citation(\"Biobase\")', and for packages 'citation(\"pkgname\")'.\n",
      "\n",
      "\n",
      "R[write to console]: \n",
      "Attaching package: ‘Biobase’\n",
      "\n",
      "\n",
      "R[write to console]: The following object is masked from ‘package:MatrixGenerics’:\n",
      "\n",
      "    rowMedians\n",
      "\n",
      "\n",
      "R[write to console]: The following objects are masked from ‘package:matrixStats’:\n",
      "\n",
      "    anyMissing, rowMedians\n",
      "\n",
      "\n",
      "R[write to console]: Loading required package: limma\n",
      "\n",
      "R[write to console]: \n",
      "Attaching package: ‘limma’\n",
      "\n",
      "\n",
      "R[write to console]: The following object is masked from ‘package:BiocGenerics’:\n",
      "\n",
      "    plotMA\n",
      "\n",
      "\n",
      "R[write to console]: Loading required package: igraph\n",
      "\n",
      "R[write to console]: \n",
      "Attaching package: ‘igraph’\n",
      "\n",
      "\n",
      "R[write to console]: The following object is masked from ‘package:GenomicRanges’:\n",
      "\n",
      "    union\n",
      "\n",
      "\n",
      "R[write to console]: The following object is masked from ‘package:IRanges’:\n",
      "\n",
      "    union\n",
      "\n",
      "\n",
      "R[write to console]: The following object is masked from ‘package:S4Vectors’:\n",
      "\n",
      "    union\n",
      "\n",
      "\n",
      "R[write to console]: The following objects are masked from ‘package:BiocGenerics’:\n",
      "\n",
      "    normalize, path, union\n",
      "\n",
      "\n",
      "R[write to console]: The following objects are masked from ‘package:stats’:\n",
      "\n",
      "    decompose, spectrum\n",
      "\n",
      "\n",
      "R[write to console]: The following object is masked from ‘package:base’:\n",
      "\n",
      "    union\n",
      "\n",
      "\n",
      "R[write to console]: Loading required package: AnnotationHub\n",
      "\n",
      "R[write to console]: Loading required package: BiocFileCache\n",
      "\n",
      "R[write to console]: Loading required package: dbplyr\n",
      "\n",
      "R[write to console]: \n",
      "Attaching package: ‘AnnotationHub’\n",
      "\n",
      "\n",
      "R[write to console]: The following object is masked from ‘package:Biobase’:\n",
      "\n",
      "    cache\n",
      "\n",
      "\n",
      "R[write to console]: Loading required package: MultiAssayExperiment\n",
      "\n"
     ]
    }
   ],
   "source": [
    "%%R\n",
    "library(recount3) \n",
    "library(edgeR)\n",
    "library(SummarizedExperiment)\n",
    "library(hipathia) "
   ]
  },
  {
   "cell_type": "code",
   "execution_count": 3,
   "id": "b39a58d6-d0b2-43be-a0cb-4ab773bb03c0",
   "metadata": {},
   "outputs": [
    {
     "name": "stderr",
     "output_type": "stream",
     "text": [
      "R[write to console]: 2025-08-03 12:24:25.27349 caching file sra.recount_project.MD.gz.\n",
      "\n",
      "R[write to console]: 2025-08-03 12:24:25.9017 caching file gtex.recount_project.MD.gz.\n",
      "\n",
      "R[write to console]: 2025-08-03 12:24:26.519994 caching file tcga.recount_project.MD.gz.\n",
      "\n",
      "R[write to console]: 2025-08-03 12:24:30.283571 downloading and reading the metadata.\n",
      "\n",
      "R[write to console]: 2025-08-03 12:24:31.238174 caching file gtex.gtex.BLOOD.MD.gz.\n",
      "\n",
      "R[write to console]: 2025-08-03 12:24:32.285441 caching file gtex.recount_project.BLOOD.MD.gz.\n",
      "\n",
      "R[write to console]: 2025-08-03 12:24:33.25442 caching file gtex.recount_qc.BLOOD.MD.gz.\n",
      "\n",
      "R[write to console]: 2025-08-03 12:24:34.326112 caching file gtex.recount_seq_qc.BLOOD.MD.gz.\n",
      "\n",
      "R[write to console]: 2025-08-03 12:24:35.276305 downloading and reading the feature information.\n",
      "\n",
      "R[write to console]: 2025-08-03 12:24:35.967694 caching file human.gene_sums.G026.gtf.gz.\n",
      "\n",
      "R[write to console]: 2025-08-03 12:24:36.431689 downloading and reading the counts: 1048 samples across 63856 features.\n",
      "\n",
      "R[write to console]: 2025-08-03 12:24:37.332752 caching file gtex.gene_sums.BLOOD.G026.gz.\n",
      "\n",
      "R[write to console]: 2025-08-03 12:24:45.582807 constructing the RangedSummarizedExperiment (rse) object.\n",
      "\n",
      "R[write to console]: 2025-08-03 12:24:47.267583 caching file sra.recount_project.MD.gz.\n",
      "\n",
      "R[write to console]: 2025-08-03 12:24:47.938855 caching file gtex.recount_project.MD.gz.\n",
      "\n",
      "R[write to console]: 2025-08-03 12:24:48.817549 caching file tcga.recount_project.MD.gz.\n",
      "\n",
      "R[write to console]: 2025-08-03 12:24:51.068511 downloading and reading the metadata.\n",
      "\n",
      "R[write to console]: 2025-08-03 12:24:52.048364 caching file gtex.gtex.THYROID.MD.gz.\n",
      "\n",
      "R[write to console]: 2025-08-03 12:24:53.0909 caching file gtex.recount_project.THYROID.MD.gz.\n",
      "\n",
      "R[write to console]: 2025-08-03 12:24:54.082657 caching file gtex.recount_qc.THYROID.MD.gz.\n",
      "\n",
      "R[write to console]: 2025-08-03 12:24:54.951742 caching file gtex.recount_seq_qc.THYROID.MD.gz.\n",
      "\n",
      "R[write to console]: 2025-08-03 12:24:55.862499 downloading and reading the feature information.\n",
      "\n",
      "R[write to console]: 2025-08-03 12:24:56.447371 caching file human.gene_sums.G026.gtf.gz.\n",
      "\n",
      "R[write to console]: 2025-08-03 12:24:57.051613 downloading and reading the counts: 706 samples across 63856 features.\n",
      "\n",
      "R[write to console]: 2025-08-03 12:24:57.90267 caching file gtex.gene_sums.THYROID.G026.gz.\n",
      "\n",
      "R[write to console]: 2025-08-03 12:25:00.965856 constructing the RangedSummarizedExperiment (rse) object.\n",
      "\n"
     ]
    }
   ],
   "source": [
    "%%R\n",
    "####-- BLOOD\n",
    "gtex_blood <- subset(available_projects(), file_source == \"gtex\" & \n",
    "                           project ==\"BLOOD\")\n",
    "rseBLOOD <- create_rse(gtex_blood)\n",
    "#rseBLOOD <- rseBLOOD[, rseBLOOD$gtex.smtsd == \"Whole Blood\"]\n",
    "####--- OVARY\n",
    "#gtex_ovar <- subset(available_projects(), file_source == \"gtex\" & \n",
    "#                         project ==\"OVARY\")\n",
    "#rseOVAR <- create_rse(gtex_ovar)\n",
    "###--- UTERUS\n",
    "#gtex_uter <- subset(available_projects(), file_source == \"gtex\" & \n",
    "#                          project ==\"UTERUS\")\n",
    "#rseUTER <- create_rse(gtex_uter)\n",
    "###--- THYROIDES\n",
    "gtex_thyr <- subset(available_projects(), file_source == \"gtex\" & \n",
    "                          project ==\"THYROID\")\n",
    "rseTHYR<- create_rse(gtex_thyr)\n",
    "    \n",
    "##--- COOMBINADO\n",
    "rse <- cbind(rseBLOOD, rseTHYR)\n",
    "#rse2 <- cbind(rseBLOOD, rseOVAR)"
   ]
  },
  {
   "cell_type": "code",
   "execution_count": 4,
   "id": "ce41116f-054a-494c-b09d-90dcc5e80a9b",
   "metadata": {},
   "outputs": [],
   "source": [
    "%%R\n",
    "## Obtengo por separado un array con los conteso crudos de RNA-seq y los \n",
    "## datos clínicos y experimentales en metadata\n",
    "counts <- assay(rse, \"raw_counts\")  #Matriz de conteos crudos\n",
    "metadata <- colData(rse)            #df de datos clínicos y experimentales"
   ]
  },
  {
   "cell_type": "code",
   "execution_count": 5,
   "id": "5d9547fa-b2d7-42f8-bcf1-fa0949fe363f",
   "metadata": {},
   "outputs": [],
   "source": [
    "%%R\n",
    "### 2 - PRE-FILTRADOO\n",
    "keep <- rowSums(counts > 0) >= 5  # Genes expresados en ≥5 muestras\n",
    "counts <- counts[keep, ] #De 63856 genes a 55424 genes\n"
   ]
  },
  {
   "cell_type": "code",
   "execution_count": 6,
   "id": "abe7b6a9-e08b-454d-9a76-e1554ba8044a",
   "metadata": {},
   "outputs": [],
   "source": [
    "%%R\n",
    "## 3 - NORMALIZACIÓN TMM EN DATOS CRUDOS \n",
    "\n",
    "    # Normalización TMM = Trimmed Mean of M-values:\n",
    "    # método para corregir diferencias en la profundidad de secuenciación y \n",
    "    # en la composición global del RNA entre muestras.\n",
    "    # Conversión counts crudos a CPM (Counts Per Million),\n",
    "    # usando tamaños de librería ajustados con factores de normalización TMM \n",
    "    # (calcula lib.size * norm.factors)\n",
    "dge <- DGEList(counts = counts) # clase DGEList (Differential Gene Expression List)\n",
    "dge_norm <- cpm(dge, \n",
    "                    normalized.lib.sizes = TRUE, \n",
    "                    log = FALSE)                              \n",
    "                     \n",
    "dge_normalized <- log2(dge_norm + 1) # transformación log2 para obtener valores continuos comparables "
   ]
  },
  {
   "cell_type": "code",
   "execution_count": 7,
   "id": "20963c01-d901-40e1-ba53-77c3ef9b7688",
   "metadata": {},
   "outputs": [
    {
     "name": "stderr",
     "output_type": "stream",
     "text": [
      "R[write to console]: snapshotDate(): 2023-10-23\n",
      "\n"
     ]
    },
    {
     "name": "stdout",
     "output_type": "stream",
     "text": [
      "translated ids = 23791 (0.42) \n",
      "untranslated ids = 32426 (0.58) \n",
      "multihit ids = 186 (0.0033) \n",
      "\n",
      "FALSE \n",
      "23690 \n"
     ]
    }
   ],
   "source": [
    "%%R\n",
    "### 4 - CAMBIO DE ENSEMBL A ENTREZ (Hipathia)\n",
    "data_entrez <- translate_data(dge_normalized, \"hsa\")\n",
    "      # translated ids = 23736 (0.43) \n",
    "      # untranslated ids = 31688 (0.57) \n",
    "      # multihit ids = 181 (0.0033) \n",
    "    ## De los 55424 genes por Ensembl, se reconocen 23638 con id Entrez en Hipathia\n",
    "table(is.na(rownames(data_entrez)))\n",
    "    # IMPORTANTE: que no existan filas con id no reconocidos por Hipathia"
   ]
  },
  {
   "cell_type": "code",
   "execution_count": null,
   "id": "ec524527-f551-4583-9c3b-79d69b1e6030",
   "metadata": {},
   "outputs": [],
   "source": [
    "%%R\n",
    "### 5 - NORMALIZACION a [0,1] (Hipathia)\n",
    "data_entrez_norm <- normalize_data(data_entrez)\n",
    "    \n",
    "### 6 - OBJETO FINAL PARA HIPATHIA SummarizedEperiment\n",
    "data_info <- SummarizedExperiment(\n",
    "    assays = list(counts = data_entrez_norm), #counts normalizados\n",
    "     colData = DataFrame(\n",
    "        tissue = colData(rse)$gtex.smts,\n",
    "        subtissue = colData(rse)$gtex.smtsd\n",
    "    )\n",
    ")"
   ]
  },
  {
   "cell_type": "code",
   "execution_count": null,
   "id": "e4f72b07-ef6c-4bfc-b3ee-b22d77a04106",
   "metadata": {},
   "outputs": [],
   "source": [
    "%%R\n",
    "### 7 - DESCARGO PATHWAYS HUMANOS (Hipathia)\n",
    "pathways <- load_pathways(\"hsa\")\n",
    "        # Loaded 146 pathways\n",
    " "
   ]
  },
  {
   "cell_type": "code",
   "execution_count": null,
   "id": "60da0514-77ee-4a03-a9db-4c9decc37c36",
   "metadata": {},
   "outputs": [],
   "source": [
    "%%R\n",
    "# Limitar el número de hilos (threads) usados por OpenMP a 1 para evitar que\n",
    "# funciones paralelizadas (como hipathia) saturen la CPU y provoquen fallos\n",
    "# o caídas del kernel en entornos interactivos como JupyterLab.\n",
    "# Esto mejora la estabilidad aunque puede ralentizar el procesamiento.\n",
    "Sys.setenv(OMP_NUM_THREADS = \"1\")\n",
    "    \n",
    "### 8 - CALCULO DE ACTIVIDAD DE RUTAS\n",
    "## HIPATHIA - result\n",
    "results <- hipathia(data_info, pathways) # utiliza las subrutas efectoras\n",
    "                                             # opción decompose=TRUE utiliza las subrutas descompuestas"
   ]
  },
  {
   "cell_type": "code",
   "execution_count": null,
   "id": "aed4906a-9429-42eb-a35a-e3bdd5081844",
   "metadata": {},
   "outputs": [],
   "source": [
    "%%R\n",
    "## Obtengo los valores de actividad de la señal como matriz\n",
    "path_vals <- get_paths_data(results, matrix = TRUE)\n",
    "    ## Obtengo los valores de actividad de la señal como SummarizedExperiment\n",
    "    #path <- get_paths_data(results)\n",
    "#head(path_vals)  "
   ]
  },
  {
   "cell_type": "code",
   "execution_count": null,
   "id": "70236010-6150-4694-9361-7374e75accd1",
   "metadata": {},
   "outputs": [],
   "source": [
    "%%R\n",
    "# Datos de tipo de tejido\n",
    "data_design <- as.matrix(colData(data_info))\n",
    "sample_group_sub <- data_design[colnames(path_vals),\"subtissue\"]\n",
    "sample_group_tissue <- data_design[colnames(path_vals),\"tissue\"]\n",
    "\n",
    "### -------- Comparación de las características entre diferentes grupos de muestras\n",
    "comp <- do_wilcoxon(path_vals, sample_group_tissue, g1 = \"Blood\", g2 = \"Thyroid\")\n",
    "#hhead(comp)"
   ]
  },
  {
   "cell_type": "code",
   "execution_count": null,
   "id": "43c67e60-e5b7-4bcb-b1e8-9a51bb14c243",
   "metadata": {},
   "outputs": [],
   "source": [
    "%%R\n",
    "pathways_summary <- get_pathways_summary(comp, pathways)"
   ]
  },
  {
   "cell_type": "code",
   "execution_count": null,
   "id": "09775fdb-b57c-4e2b-8b61-af149078473e",
   "metadata": {},
   "outputs": [],
   "source": [
    "%%R\n",
    "##### PCA\n",
    "ranked_path_vals <- path_vals[order(comp$p.value, decreasing = FALSE),]\n",
    "pca_model <- do_pca(ranked_path_vals[1:ncol(ranked_path_vals),])\n",
    "pca_plot(pca_model, sample_group_tissue, legend = T, main=\"BLOOD\")\n"
   ]
  },
  {
   "cell_type": "code",
   "execution_count": null,
   "id": "e8cf08be-6772-4637-9160-150e0a37ecb1",
   "metadata": {},
   "outputs": [],
   "source": [
    "%%R\n",
    "comp2 <- do_wilcoxon(path_vals, sample_group_sub, g1 = \"Whole Blood\")\n",
    "pathways_summary <- get_pathways_summary(comp2, pathways)\n",
    "##### PCA\n",
    "ranked_path_vals <- path_vals[order(comp2$p.value, decreasing = FALSE),]\n",
    "pca_model <- do_pca(ranked_path_vals[1:ncol(ranked_path_vals),])\n",
    "pca_plot(pca_model, sample_group_sub, legend = T, main=\"BLOOD\")"
   ]
  },
  {
   "cell_type": "code",
   "execution_count": 16,
   "id": "12c17aa8-5f08-4515-b425-4d4a2045ef2c",
   "metadata": {},
   "outputs": [
    {
     "data": {
      "image/png": "[encoded data removed]",
      "text/plain": [
       "<IPython.core.display.Image object>"
      ]
     },
     "metadata": {},
     "output_type": "display_data"
    }
   ],
   "source": [
    "%%R\n",
    "colors_de <- node_color_per_de(results, pathways, sample_group,\"1\",\"Thyroid\", \n",
    "                                colors = \"hipathia\")\n",
    "pathway_comparison_plot(comp, metaginfo = pathways, pathway = \"hsa04110\",\n",
    "                        node_colors = colors_de)\n",
    "#pathway_comparison_plot(comp, metaginfo = pathways, pathway = \"hsa05216\",\n",
    " #                       node_colors = colors_de)\n"
   ]
  },
  {
   "cell_type": "code",
   "execution_count": 39,
   "id": "02c943c3-2e68-42c5-a899-8f6eefae0692",
   "metadata": {},
   "outputs": [
    {
     "name": "stdout",
     "output_type": "stream",
     "text": [
      "Error in `ensure_igraph()`:\n",
      "! Must provide a graph object (provided `NULL`).\n",
      "Run `rlang::last_trace()` to see where the error occurred.\n",
      "\n",
      "Error in ensure_igraph(graph) :\n"
     ]
    },
    {
     "ename": "RInterpreterError",
     "evalue": "Failed to parse and evaluate line 'pathway_comparison_plot(comp, metaginfo = pathways, pathway = \"hsa0491\",\\n                        node_colors = colors_de)\\n'.\nR error message: 'Error in ensure_igraph(graph) :'",
     "output_type": "error",
     "traceback": [
      "\u001b[0;31m---------------------------------------------------------------------------\u001b[0m",
      "\u001b[0;31mRRuntimeError\u001b[0m                             Traceback (most recent call last)",
      "File \u001b[0;32m~/miniconda3/envs/UPO_TFM/lib/python3.10/site-packages/rpy2/ipython/rmagic.py:385\u001b[0m, in \u001b[0;36mRMagics.eval\u001b[0;34m(self, code)\u001b[0m\n\u001b[1;32m    383\u001b[0m \u001b[38;5;28;01mtry\u001b[39;00m:\n\u001b[1;32m    384\u001b[0m     \u001b[38;5;66;03m# Need the newline in case the last line in code is a comment.\u001b[39;00m\n\u001b[0;32m--> 385\u001b[0m     value, visible \u001b[38;5;241m=\u001b[39m \u001b[43mro\u001b[49m\u001b[38;5;241;43m.\u001b[39;49m\u001b[43mr\u001b[49m\u001b[43m(\u001b[49m\u001b[38;5;124;43m\"\u001b[39;49m\u001b[38;5;124;43mwithVisible(\u001b[39;49m\u001b[38;5;124;43m{\u001b[39;49m\u001b[38;5;132;43;01m%s\u001b[39;49;00m\u001b[38;5;130;43;01m\\n\u001b[39;49;00m\u001b[38;5;124;43m})\u001b[39;49m\u001b[38;5;124;43m\"\u001b[39;49m\u001b[43m \u001b[49m\u001b[38;5;241;43m%\u001b[39;49m\u001b[43m \u001b[49m\u001b[43mcode\u001b[49m\u001b[43m)\u001b[49m\n\u001b[1;32m    386\u001b[0m \u001b[38;5;28;01mexcept\u001b[39;00m (ri\u001b[38;5;241m.\u001b[39membedded\u001b[38;5;241m.\u001b[39mRRuntimeError, \u001b[38;5;167;01mValueError\u001b[39;00m) \u001b[38;5;28;01mas\u001b[39;00m exception:\n\u001b[1;32m    387\u001b[0m     \u001b[38;5;66;03m# Otherwise next return seems to have copy of error.\u001b[39;00m\n",
      "File \u001b[0;32m~/miniconda3/envs/UPO_TFM/lib/python3.10/site-packages/rpy2/robjects/__init__.py:459\u001b[0m, in \u001b[0;36mR.__call__\u001b[0;34m(self, string)\u001b[0m\n\u001b[1;32m    458\u001b[0m p \u001b[38;5;241m=\u001b[39m rinterface\u001b[38;5;241m.\u001b[39mparse(string)\n\u001b[0;32m--> 459\u001b[0m res \u001b[38;5;241m=\u001b[39m \u001b[38;5;28;43mself\u001b[39;49m\u001b[38;5;241;43m.\u001b[39;49m\u001b[43meval\u001b[49m\u001b[43m(\u001b[49m\u001b[43mp\u001b[49m\u001b[43m)\u001b[49m\n\u001b[1;32m    460\u001b[0m \u001b[38;5;28;01mreturn\u001b[39;00m conversion\u001b[38;5;241m.\u001b[39mget_conversion()\u001b[38;5;241m.\u001b[39mrpy2py(res)\n",
      "File \u001b[0;32m~/miniconda3/envs/UPO_TFM/lib/python3.10/site-packages/rpy2/robjects/functions.py:208\u001b[0m, in \u001b[0;36mSignatureTranslatedFunction.__call__\u001b[0;34m(self, *args, **kwargs)\u001b[0m\n\u001b[1;32m    207\u001b[0m         kwargs[r_k] \u001b[38;5;241m=\u001b[39m v\n\u001b[0;32m--> 208\u001b[0m \u001b[38;5;28;01mreturn\u001b[39;00m (\u001b[38;5;28;43msuper\u001b[39;49m\u001b[43m(\u001b[49m\u001b[43mSignatureTranslatedFunction\u001b[49m\u001b[43m,\u001b[49m\u001b[43m \u001b[49m\u001b[38;5;28;43mself\u001b[39;49m\u001b[43m)\u001b[49m\n\u001b[1;32m    209\u001b[0m \u001b[43m        \u001b[49m\u001b[38;5;241;43m.\u001b[39;49m\u001b[38;5;21;43m__call__\u001b[39;49m\u001b[43m(\u001b[49m\u001b[38;5;241;43m*\u001b[39;49m\u001b[43margs\u001b[49m\u001b[43m,\u001b[49m\u001b[43m \u001b[49m\u001b[38;5;241;43m*\u001b[39;49m\u001b[38;5;241;43m*\u001b[39;49m\u001b[43mkwargs\u001b[49m\u001b[43m)\u001b[49m)\n",
      "File \u001b[0;32m~/miniconda3/envs/UPO_TFM/lib/python3.10/site-packages/rpy2/robjects/functions.py:131\u001b[0m, in \u001b[0;36mFunction.__call__\u001b[0;34m(self, *args, **kwargs)\u001b[0m\n\u001b[1;32m    130\u001b[0m         new_kwargs[k] \u001b[38;5;241m=\u001b[39m cv\u001b[38;5;241m.\u001b[39mpy2rpy(v)\n\u001b[0;32m--> 131\u001b[0m res \u001b[38;5;241m=\u001b[39m \u001b[38;5;28;43msuper\u001b[39;49m\u001b[43m(\u001b[49m\u001b[43mFunction\u001b[49m\u001b[43m,\u001b[49m\u001b[43m \u001b[49m\u001b[38;5;28;43mself\u001b[39;49m\u001b[43m)\u001b[49m\u001b[38;5;241;43m.\u001b[39;49m\u001b[38;5;21;43m__call__\u001b[39;49m\u001b[43m(\u001b[49m\u001b[38;5;241;43m*\u001b[39;49m\u001b[43mnew_args\u001b[49m\u001b[43m,\u001b[49m\u001b[43m \u001b[49m\u001b[38;5;241;43m*\u001b[39;49m\u001b[38;5;241;43m*\u001b[39;49m\u001b[43mnew_kwargs\u001b[49m\u001b[43m)\u001b[49m\n\u001b[1;32m    132\u001b[0m res \u001b[38;5;241m=\u001b[39m cv\u001b[38;5;241m.\u001b[39mrpy2py(res)\n",
      "File \u001b[0;32m~/miniconda3/envs/UPO_TFM/lib/python3.10/site-packages/rpy2/rinterface_lib/conversion.py:45\u001b[0m, in \u001b[0;36m_cdata_res_to_rinterface.<locals>._\u001b[0;34m(*args, **kwargs)\u001b[0m\n\u001b[1;32m     44\u001b[0m \u001b[38;5;28;01mdef\u001b[39;00m\u001b[38;5;250m \u001b[39m\u001b[38;5;21m_\u001b[39m(\u001b[38;5;241m*\u001b[39margs, \u001b[38;5;241m*\u001b[39m\u001b[38;5;241m*\u001b[39mkwargs):\n\u001b[0;32m---> 45\u001b[0m     cdata \u001b[38;5;241m=\u001b[39m \u001b[43mfunction\u001b[49m\u001b[43m(\u001b[49m\u001b[38;5;241;43m*\u001b[39;49m\u001b[43margs\u001b[49m\u001b[43m,\u001b[49m\u001b[43m \u001b[49m\u001b[38;5;241;43m*\u001b[39;49m\u001b[38;5;241;43m*\u001b[39;49m\u001b[43mkwargs\u001b[49m\u001b[43m)\u001b[49m\n\u001b[1;32m     46\u001b[0m     \u001b[38;5;66;03m# TODO: test cdata is of the expected CType\u001b[39;00m\n",
      "File \u001b[0;32m~/miniconda3/envs/UPO_TFM/lib/python3.10/site-packages/rpy2/rinterface.py:817\u001b[0m, in \u001b[0;36mSexpClosure.__call__\u001b[0;34m(self, *args, **kwargs)\u001b[0m\n\u001b[1;32m    816\u001b[0m     \u001b[38;5;28;01mif\u001b[39;00m error_occured[\u001b[38;5;241m0\u001b[39m]:\n\u001b[0;32m--> 817\u001b[0m         \u001b[38;5;28;01mraise\u001b[39;00m embedded\u001b[38;5;241m.\u001b[39mRRuntimeError(_rinterface\u001b[38;5;241m.\u001b[39m_geterrmessage())\n\u001b[1;32m    818\u001b[0m \u001b[38;5;28;01mreturn\u001b[39;00m res\n",
      "\u001b[0;31mRRuntimeError\u001b[0m: Error in ensure_igraph(graph) : \n",
      "\nDuring handling of the above exception, another exception occurred:\n",
      "\u001b[0;31mRInterpreterError\u001b[0m                         Traceback (most recent call last)",
      "Cell \u001b[0;32mIn[39], line 1\u001b[0m\n\u001b[0;32m----> 1\u001b[0m \u001b[43mget_ipython\u001b[49m\u001b[43m(\u001b[49m\u001b[43m)\u001b[49m\u001b[38;5;241;43m.\u001b[39;49m\u001b[43mrun_cell_magic\u001b[49m\u001b[43m(\u001b[49m\u001b[38;5;124;43m'\u001b[39;49m\u001b[38;5;124;43mR\u001b[39;49m\u001b[38;5;124;43m'\u001b[39;49m\u001b[43m,\u001b[49m\u001b[43m \u001b[49m\u001b[38;5;124;43m'\u001b[39;49m\u001b[38;5;124;43m'\u001b[39;49m\u001b[43m,\u001b[49m\u001b[43m \u001b[49m\u001b[38;5;124;43m'\u001b[39;49m\u001b[38;5;124;43mpathway_comparison_plot(comp, metaginfo = pathways, pathway = \u001b[39;49m\u001b[38;5;124;43m\"\u001b[39;49m\u001b[38;5;124;43mhsa0491\u001b[39;49m\u001b[38;5;124;43m\"\u001b[39;49m\u001b[38;5;124;43m,\u001b[39;49m\u001b[38;5;130;43;01m\\n\u001b[39;49;00m\u001b[38;5;124;43m                        node_colors = colors_de)\u001b[39;49m\u001b[38;5;130;43;01m\\n\u001b[39;49;00m\u001b[38;5;124;43m'\u001b[39;49m\u001b[43m)\u001b[49m\n",
      "File \u001b[0;32m~/miniconda3/envs/UPO_TFM/lib/python3.10/site-packages/IPython/core/interactiveshell.py:2543\u001b[0m, in \u001b[0;36mInteractiveShell.run_cell_magic\u001b[0;34m(self, magic_name, line, cell)\u001b[0m\n\u001b[1;32m   2541\u001b[0m \u001b[38;5;28;01mwith\u001b[39;00m \u001b[38;5;28mself\u001b[39m\u001b[38;5;241m.\u001b[39mbuiltin_trap:\n\u001b[1;32m   2542\u001b[0m     args \u001b[38;5;241m=\u001b[39m (magic_arg_s, cell)\n\u001b[0;32m-> 2543\u001b[0m     result \u001b[38;5;241m=\u001b[39m \u001b[43mfn\u001b[49m\u001b[43m(\u001b[49m\u001b[38;5;241;43m*\u001b[39;49m\u001b[43margs\u001b[49m\u001b[43m,\u001b[49m\u001b[43m \u001b[49m\u001b[38;5;241;43m*\u001b[39;49m\u001b[38;5;241;43m*\u001b[39;49m\u001b[43mkwargs\u001b[49m\u001b[43m)\u001b[49m\n\u001b[1;32m   2545\u001b[0m \u001b[38;5;66;03m# The code below prevents the output from being displayed\u001b[39;00m\n\u001b[1;32m   2546\u001b[0m \u001b[38;5;66;03m# when using magics with decorator @output_can_be_silenced\u001b[39;00m\n\u001b[1;32m   2547\u001b[0m \u001b[38;5;66;03m# when the last Python token in the expression is a ';'.\u001b[39;00m\n\u001b[1;32m   2548\u001b[0m \u001b[38;5;28;01mif\u001b[39;00m \u001b[38;5;28mgetattr\u001b[39m(fn, magic\u001b[38;5;241m.\u001b[39mMAGIC_OUTPUT_CAN_BE_SILENCED, \u001b[38;5;28;01mFalse\u001b[39;00m):\n",
      "File \u001b[0;32m~/miniconda3/envs/UPO_TFM/lib/python3.10/site-packages/rpy2/ipython/rmagic.py:943\u001b[0m, in \u001b[0;36mRMagics.R\u001b[0;34m(self, line, cell, local_ns)\u001b[0m\n\u001b[1;32m    941\u001b[0m     \u001b[38;5;28;01mif\u001b[39;00m \u001b[38;5;129;01mnot\u001b[39;00m e\u001b[38;5;241m.\u001b[39mstdout\u001b[38;5;241m.\u001b[39mendswith(e\u001b[38;5;241m.\u001b[39merr):\n\u001b[1;32m    942\u001b[0m         \u001b[38;5;28mprint\u001b[39m(e\u001b[38;5;241m.\u001b[39merr)\n\u001b[0;32m--> 943\u001b[0m     \u001b[38;5;28;01mraise\u001b[39;00m e\n\u001b[1;32m    944\u001b[0m \u001b[38;5;28;01mfinally\u001b[39;00m:\n\u001b[1;32m    945\u001b[0m     \u001b[38;5;28;01mif\u001b[39;00m \u001b[38;5;28mself\u001b[39m\u001b[38;5;241m.\u001b[39mdevice \u001b[38;5;129;01min\u001b[39;00m DEVICES_STATIC:\n",
      "File \u001b[0;32m~/miniconda3/envs/UPO_TFM/lib/python3.10/site-packages/rpy2/ipython/rmagic.py:923\u001b[0m, in \u001b[0;36mRMagics.R\u001b[0;34m(self, line, cell, local_ns)\u001b[0m\n\u001b[1;32m    921\u001b[0m         return_output \u001b[38;5;241m=\u001b[39m \u001b[38;5;28;01mFalse\u001b[39;00m\n\u001b[1;32m    922\u001b[0m \u001b[38;5;28;01melse\u001b[39;00m:\n\u001b[0;32m--> 923\u001b[0m     text_result, result, visible \u001b[38;5;241m=\u001b[39m \u001b[38;5;28;43mself\u001b[39;49m\u001b[38;5;241;43m.\u001b[39;49m\u001b[43meval\u001b[49m\u001b[43m(\u001b[49m\u001b[43mcode\u001b[49m\u001b[43m)\u001b[49m\n\u001b[1;32m    924\u001b[0m     text_output \u001b[38;5;241m+\u001b[39m\u001b[38;5;241m=\u001b[39m text_result\n\u001b[1;32m    925\u001b[0m     \u001b[38;5;28;01mif\u001b[39;00m visible:\n",
      "File \u001b[0;32m~/miniconda3/envs/UPO_TFM/lib/python3.10/site-packages/rpy2/ipython/rmagic.py:389\u001b[0m, in \u001b[0;36mRMagics.eval\u001b[0;34m(self, code)\u001b[0m\n\u001b[1;32m    386\u001b[0m \u001b[38;5;28;01mexcept\u001b[39;00m (ri\u001b[38;5;241m.\u001b[39membedded\u001b[38;5;241m.\u001b[39mRRuntimeError, \u001b[38;5;167;01mValueError\u001b[39;00m) \u001b[38;5;28;01mas\u001b[39;00m exception:\n\u001b[1;32m    387\u001b[0m     \u001b[38;5;66;03m# Otherwise next return seems to have copy of error.\u001b[39;00m\n\u001b[1;32m    388\u001b[0m     warning_or_other_msg \u001b[38;5;241m=\u001b[39m \u001b[38;5;28mself\u001b[39m\u001b[38;5;241m.\u001b[39mflush()\n\u001b[0;32m--> 389\u001b[0m     \u001b[38;5;28;01mraise\u001b[39;00m RInterpreterError(code, \u001b[38;5;28mstr\u001b[39m(exception),\n\u001b[1;32m    390\u001b[0m                             warning_or_other_msg)\n\u001b[1;32m    391\u001b[0m text_output \u001b[38;5;241m=\u001b[39m \u001b[38;5;28mself\u001b[39m\u001b[38;5;241m.\u001b[39mflush()\n\u001b[1;32m    392\u001b[0m \u001b[38;5;28;01mreturn\u001b[39;00m text_output, value, visible[\u001b[38;5;241m0\u001b[39m]\n",
      "\u001b[0;31mRInterpreterError\u001b[0m: Failed to parse and evaluate line 'pathway_comparison_plot(comp, metaginfo = pathways, pathway = \"hsa0491\",\\n                        node_colors = colors_de)\\n'.\nR error message: 'Error in ensure_igraph(graph) :'"
     ]
    }
   ],
   "source": [
    "%%R\n",
    "pathway_comparison_plot(comp, metaginfo = pathways, pathway = \"hsa0491\",\n",
    "                        node_colors = colors_de)"
   ]
  },
  {
   "cell_type": "code",
   "execution_count": 30,
   "id": "9324b4a1-2b93-4aad-a9b3-bedb63a80a03",
   "metadata": {},
   "outputs": [
    {
     "name": "stdout",
     "output_type": "stream",
     "text": [
      "Error in `ensure_igraph()`:\n",
      "! Must provide a graph object (provided `NULL`).\n",
      "Run `rlang::last_trace()` to see where the error occurred.\n",
      "\n",
      "Error in ensure_igraph(graph) :\n"
     ]
    },
    {
     "ename": "RInterpreterError",
     "evalue": "Failed to parse and evaluate line 'pathway_comparison_plot(comp, metaginfo = pathways, pathway = \"hsa0491\",\\n                        node_colors = colors_de)\\n'.\nR error message: 'Error in ensure_igraph(graph) :'",
     "output_type": "error",
     "traceback": [
      "\u001b[0;31m---------------------------------------------------------------------------\u001b[0m",
      "\u001b[0;31mRRuntimeError\u001b[0m                             Traceback (most recent call last)",
      "File \u001b[0;32m~/miniconda3/envs/UPO_TFM/lib/python3.10/site-packages/rpy2/ipython/rmagic.py:385\u001b[0m, in \u001b[0;36mRMagics.eval\u001b[0;34m(self, code)\u001b[0m\n\u001b[1;32m    383\u001b[0m \u001b[38;5;28;01mtry\u001b[39;00m:\n\u001b[1;32m    384\u001b[0m     \u001b[38;5;66;03m# Need the newline in case the last line in code is a comment.\u001b[39;00m\n\u001b[0;32m--> 385\u001b[0m     value, visible \u001b[38;5;241m=\u001b[39m \u001b[43mro\u001b[49m\u001b[38;5;241;43m.\u001b[39;49m\u001b[43mr\u001b[49m\u001b[43m(\u001b[49m\u001b[38;5;124;43m\"\u001b[39;49m\u001b[38;5;124;43mwithVisible(\u001b[39;49m\u001b[38;5;124;43m{\u001b[39;49m\u001b[38;5;132;43;01m%s\u001b[39;49;00m\u001b[38;5;130;43;01m\\n\u001b[39;49;00m\u001b[38;5;124;43m})\u001b[39;49m\u001b[38;5;124;43m\"\u001b[39;49m\u001b[43m \u001b[49m\u001b[38;5;241;43m%\u001b[39;49m\u001b[43m \u001b[49m\u001b[43mcode\u001b[49m\u001b[43m)\u001b[49m\n\u001b[1;32m    386\u001b[0m \u001b[38;5;28;01mexcept\u001b[39;00m (ri\u001b[38;5;241m.\u001b[39membedded\u001b[38;5;241m.\u001b[39mRRuntimeError, \u001b[38;5;167;01mValueError\u001b[39;00m) \u001b[38;5;28;01mas\u001b[39;00m exception:\n\u001b[1;32m    387\u001b[0m     \u001b[38;5;66;03m# Otherwise next return seems to have copy of error.\u001b[39;00m\n",
      "File \u001b[0;32m~/miniconda3/envs/UPO_TFM/lib/python3.10/site-packages/rpy2/robjects/__init__.py:459\u001b[0m, in \u001b[0;36mR.__call__\u001b[0;34m(self, string)\u001b[0m\n\u001b[1;32m    458\u001b[0m p \u001b[38;5;241m=\u001b[39m rinterface\u001b[38;5;241m.\u001b[39mparse(string)\n\u001b[0;32m--> 459\u001b[0m res \u001b[38;5;241m=\u001b[39m \u001b[38;5;28;43mself\u001b[39;49m\u001b[38;5;241;43m.\u001b[39;49m\u001b[43meval\u001b[49m\u001b[43m(\u001b[49m\u001b[43mp\u001b[49m\u001b[43m)\u001b[49m\n\u001b[1;32m    460\u001b[0m \u001b[38;5;28;01mreturn\u001b[39;00m conversion\u001b[38;5;241m.\u001b[39mget_conversion()\u001b[38;5;241m.\u001b[39mrpy2py(res)\n",
      "File \u001b[0;32m~/miniconda3/envs/UPO_TFM/lib/python3.10/site-packages/rpy2/robjects/functions.py:208\u001b[0m, in \u001b[0;36mSignatureTranslatedFunction.__call__\u001b[0;34m(self, *args, **kwargs)\u001b[0m\n\u001b[1;32m    207\u001b[0m         kwargs[r_k] \u001b[38;5;241m=\u001b[39m v\n\u001b[0;32m--> 208\u001b[0m \u001b[38;5;28;01mreturn\u001b[39;00m (\u001b[38;5;28;43msuper\u001b[39;49m\u001b[43m(\u001b[49m\u001b[43mSignatureTranslatedFunction\u001b[49m\u001b[43m,\u001b[49m\u001b[43m \u001b[49m\u001b[38;5;28;43mself\u001b[39;49m\u001b[43m)\u001b[49m\n\u001b[1;32m    209\u001b[0m \u001b[43m        \u001b[49m\u001b[38;5;241;43m.\u001b[39;49m\u001b[38;5;21;43m__call__\u001b[39;49m\u001b[43m(\u001b[49m\u001b[38;5;241;43m*\u001b[39;49m\u001b[43margs\u001b[49m\u001b[43m,\u001b[49m\u001b[43m \u001b[49m\u001b[38;5;241;43m*\u001b[39;49m\u001b[38;5;241;43m*\u001b[39;49m\u001b[43mkwargs\u001b[49m\u001b[43m)\u001b[49m)\n",
      "File \u001b[0;32m~/miniconda3/envs/UPO_TFM/lib/python3.10/site-packages/rpy2/robjects/functions.py:131\u001b[0m, in \u001b[0;36mFunction.__call__\u001b[0;34m(self, *args, **kwargs)\u001b[0m\n\u001b[1;32m    130\u001b[0m         new_kwargs[k] \u001b[38;5;241m=\u001b[39m cv\u001b[38;5;241m.\u001b[39mpy2rpy(v)\n\u001b[0;32m--> 131\u001b[0m res \u001b[38;5;241m=\u001b[39m \u001b[38;5;28;43msuper\u001b[39;49m\u001b[43m(\u001b[49m\u001b[43mFunction\u001b[49m\u001b[43m,\u001b[49m\u001b[43m \u001b[49m\u001b[38;5;28;43mself\u001b[39;49m\u001b[43m)\u001b[49m\u001b[38;5;241;43m.\u001b[39;49m\u001b[38;5;21;43m__call__\u001b[39;49m\u001b[43m(\u001b[49m\u001b[38;5;241;43m*\u001b[39;49m\u001b[43mnew_args\u001b[49m\u001b[43m,\u001b[49m\u001b[43m \u001b[49m\u001b[38;5;241;43m*\u001b[39;49m\u001b[38;5;241;43m*\u001b[39;49m\u001b[43mnew_kwargs\u001b[49m\u001b[43m)\u001b[49m\n\u001b[1;32m    132\u001b[0m res \u001b[38;5;241m=\u001b[39m cv\u001b[38;5;241m.\u001b[39mrpy2py(res)\n",
      "File \u001b[0;32m~/miniconda3/envs/UPO_TFM/lib/python3.10/site-packages/rpy2/rinterface_lib/conversion.py:45\u001b[0m, in \u001b[0;36m_cdata_res_to_rinterface.<locals>._\u001b[0;34m(*args, **kwargs)\u001b[0m\n\u001b[1;32m     44\u001b[0m \u001b[38;5;28;01mdef\u001b[39;00m\u001b[38;5;250m \u001b[39m\u001b[38;5;21m_\u001b[39m(\u001b[38;5;241m*\u001b[39margs, \u001b[38;5;241m*\u001b[39m\u001b[38;5;241m*\u001b[39mkwargs):\n\u001b[0;32m---> 45\u001b[0m     cdata \u001b[38;5;241m=\u001b[39m \u001b[43mfunction\u001b[49m\u001b[43m(\u001b[49m\u001b[38;5;241;43m*\u001b[39;49m\u001b[43margs\u001b[49m\u001b[43m,\u001b[49m\u001b[43m \u001b[49m\u001b[38;5;241;43m*\u001b[39;49m\u001b[38;5;241;43m*\u001b[39;49m\u001b[43mkwargs\u001b[49m\u001b[43m)\u001b[49m\n\u001b[1;32m     46\u001b[0m     \u001b[38;5;66;03m# TODO: test cdata is of the expected CType\u001b[39;00m\n",
      "File \u001b[0;32m~/miniconda3/envs/UPO_TFM/lib/python3.10/site-packages/rpy2/rinterface.py:817\u001b[0m, in \u001b[0;36mSexpClosure.__call__\u001b[0;34m(self, *args, **kwargs)\u001b[0m\n\u001b[1;32m    816\u001b[0m     \u001b[38;5;28;01mif\u001b[39;00m error_occured[\u001b[38;5;241m0\u001b[39m]:\n\u001b[0;32m--> 817\u001b[0m         \u001b[38;5;28;01mraise\u001b[39;00m embedded\u001b[38;5;241m.\u001b[39mRRuntimeError(_rinterface\u001b[38;5;241m.\u001b[39m_geterrmessage())\n\u001b[1;32m    818\u001b[0m \u001b[38;5;28;01mreturn\u001b[39;00m res\n",
      "\u001b[0;31mRRuntimeError\u001b[0m: Error in ensure_igraph(graph) : \n",
      "\nDuring handling of the above exception, another exception occurred:\n",
      "\u001b[0;31mRInterpreterError\u001b[0m                         Traceback (most recent call last)",
      "Cell \u001b[0;32mIn[30], line 1\u001b[0m\n\u001b[0;32m----> 1\u001b[0m \u001b[43mget_ipython\u001b[49m\u001b[43m(\u001b[49m\u001b[43m)\u001b[49m\u001b[38;5;241;43m.\u001b[39;49m\u001b[43mrun_cell_magic\u001b[49m\u001b[43m(\u001b[49m\u001b[38;5;124;43m'\u001b[39;49m\u001b[38;5;124;43mR\u001b[39;49m\u001b[38;5;124;43m'\u001b[39;49m\u001b[43m,\u001b[49m\u001b[43m \u001b[49m\u001b[38;5;124;43m'\u001b[39;49m\u001b[38;5;124;43m'\u001b[39;49m\u001b[43m,\u001b[49m\u001b[43m \u001b[49m\u001b[38;5;124;43m'\u001b[39;49m\u001b[38;5;124;43mpathway_comparison_plot(comp, metaginfo = pathways, pathway = \u001b[39;49m\u001b[38;5;124;43m\"\u001b[39;49m\u001b[38;5;124;43mhsa0491\u001b[39;49m\u001b[38;5;124;43m\"\u001b[39;49m\u001b[38;5;124;43m,\u001b[39;49m\u001b[38;5;130;43;01m\\n\u001b[39;49;00m\u001b[38;5;124;43m                        node_colors = colors_de)\u001b[39;49m\u001b[38;5;130;43;01m\\n\u001b[39;49;00m\u001b[38;5;124;43m'\u001b[39;49m\u001b[43m)\u001b[49m\n",
      "File \u001b[0;32m~/miniconda3/envs/UPO_TFM/lib/python3.10/site-packages/IPython/core/interactiveshell.py:2543\u001b[0m, in \u001b[0;36mInteractiveShell.run_cell_magic\u001b[0;34m(self, magic_name, line, cell)\u001b[0m\n\u001b[1;32m   2541\u001b[0m \u001b[38;5;28;01mwith\u001b[39;00m \u001b[38;5;28mself\u001b[39m\u001b[38;5;241m.\u001b[39mbuiltin_trap:\n\u001b[1;32m   2542\u001b[0m     args \u001b[38;5;241m=\u001b[39m (magic_arg_s, cell)\n\u001b[0;32m-> 2543\u001b[0m     result \u001b[38;5;241m=\u001b[39m \u001b[43mfn\u001b[49m\u001b[43m(\u001b[49m\u001b[38;5;241;43m*\u001b[39;49m\u001b[43margs\u001b[49m\u001b[43m,\u001b[49m\u001b[43m \u001b[49m\u001b[38;5;241;43m*\u001b[39;49m\u001b[38;5;241;43m*\u001b[39;49m\u001b[43mkwargs\u001b[49m\u001b[43m)\u001b[49m\n\u001b[1;32m   2545\u001b[0m \u001b[38;5;66;03m# The code below prevents the output from being displayed\u001b[39;00m\n\u001b[1;32m   2546\u001b[0m \u001b[38;5;66;03m# when using magics with decorator @output_can_be_silenced\u001b[39;00m\n\u001b[1;32m   2547\u001b[0m \u001b[38;5;66;03m# when the last Python token in the expression is a ';'.\u001b[39;00m\n\u001b[1;32m   2548\u001b[0m \u001b[38;5;28;01mif\u001b[39;00m \u001b[38;5;28mgetattr\u001b[39m(fn, magic\u001b[38;5;241m.\u001b[39mMAGIC_OUTPUT_CAN_BE_SILENCED, \u001b[38;5;28;01mFalse\u001b[39;00m):\n",
      "File \u001b[0;32m~/miniconda3/envs/UPO_TFM/lib/python3.10/site-packages/rpy2/ipython/rmagic.py:943\u001b[0m, in \u001b[0;36mRMagics.R\u001b[0;34m(self, line, cell, local_ns)\u001b[0m\n\u001b[1;32m    941\u001b[0m     \u001b[38;5;28;01mif\u001b[39;00m \u001b[38;5;129;01mnot\u001b[39;00m e\u001b[38;5;241m.\u001b[39mstdout\u001b[38;5;241m.\u001b[39mendswith(e\u001b[38;5;241m.\u001b[39merr):\n\u001b[1;32m    942\u001b[0m         \u001b[38;5;28mprint\u001b[39m(e\u001b[38;5;241m.\u001b[39merr)\n\u001b[0;32m--> 943\u001b[0m     \u001b[38;5;28;01mraise\u001b[39;00m e\n\u001b[1;32m    944\u001b[0m \u001b[38;5;28;01mfinally\u001b[39;00m:\n\u001b[1;32m    945\u001b[0m     \u001b[38;5;28;01mif\u001b[39;00m \u001b[38;5;28mself\u001b[39m\u001b[38;5;241m.\u001b[39mdevice \u001b[38;5;129;01min\u001b[39;00m DEVICES_STATIC:\n",
      "File \u001b[0;32m~/miniconda3/envs/UPO_TFM/lib/python3.10/site-packages/rpy2/ipython/rmagic.py:923\u001b[0m, in \u001b[0;36mRMagics.R\u001b[0;34m(self, line, cell, local_ns)\u001b[0m\n\u001b[1;32m    921\u001b[0m         return_output \u001b[38;5;241m=\u001b[39m \u001b[38;5;28;01mFalse\u001b[39;00m\n\u001b[1;32m    922\u001b[0m \u001b[38;5;28;01melse\u001b[39;00m:\n\u001b[0;32m--> 923\u001b[0m     text_result, result, visible \u001b[38;5;241m=\u001b[39m \u001b[38;5;28;43mself\u001b[39;49m\u001b[38;5;241;43m.\u001b[39;49m\u001b[43meval\u001b[49m\u001b[43m(\u001b[49m\u001b[43mcode\u001b[49m\u001b[43m)\u001b[49m\n\u001b[1;32m    924\u001b[0m     text_output \u001b[38;5;241m+\u001b[39m\u001b[38;5;241m=\u001b[39m text_result\n\u001b[1;32m    925\u001b[0m     \u001b[38;5;28;01mif\u001b[39;00m visible:\n",
      "File \u001b[0;32m~/miniconda3/envs/UPO_TFM/lib/python3.10/site-packages/rpy2/ipython/rmagic.py:389\u001b[0m, in \u001b[0;36mRMagics.eval\u001b[0;34m(self, code)\u001b[0m\n\u001b[1;32m    386\u001b[0m \u001b[38;5;28;01mexcept\u001b[39;00m (ri\u001b[38;5;241m.\u001b[39membedded\u001b[38;5;241m.\u001b[39mRRuntimeError, \u001b[38;5;167;01mValueError\u001b[39;00m) \u001b[38;5;28;01mas\u001b[39;00m exception:\n\u001b[1;32m    387\u001b[0m     \u001b[38;5;66;03m# Otherwise next return seems to have copy of error.\u001b[39;00m\n\u001b[1;32m    388\u001b[0m     warning_or_other_msg \u001b[38;5;241m=\u001b[39m \u001b[38;5;28mself\u001b[39m\u001b[38;5;241m.\u001b[39mflush()\n\u001b[0;32m--> 389\u001b[0m     \u001b[38;5;28;01mraise\u001b[39;00m RInterpreterError(code, \u001b[38;5;28mstr\u001b[39m(exception),\n\u001b[1;32m    390\u001b[0m                             warning_or_other_msg)\n\u001b[1;32m    391\u001b[0m text_output \u001b[38;5;241m=\u001b[39m \u001b[38;5;28mself\u001b[39m\u001b[38;5;241m.\u001b[39mflush()\n\u001b[1;32m    392\u001b[0m \u001b[38;5;28;01mreturn\u001b[39;00m text_output, value, visible[\u001b[38;5;241m0\u001b[39m]\n",
      "\u001b[0;31mRInterpreterError\u001b[0m: Failed to parse and evaluate line 'pathway_comparison_plot(comp, metaginfo = pathways, pathway = \"hsa0491\",\\n                        node_colors = colors_de)\\n'.\nR error message: 'Error in ensure_igraph(graph) :'"
     ]
    }
   ],
   "source": [
    "%%R\n",
    "pathway_comparison_plot(comp, metaginfo = pathways, pathway = \"hsa0491\",\n",
    "                        node_colors = colors_de)"
   ]
  },
  {
   "cell_type": "code",
   "execution_count": null,
   "id": "5f176db2-3b42-4886-9d8d-d7f08fdac44b",
   "metadata": {},
   "outputs": [],
   "source": [
    "####PARA TRAER LOS DATOS\n",
    "from pathlib import Path\n",
    "\n",
    "# Crea la carpeta si no existe\n",
    "Path(\"data\").mkdir(exist_ok=True)\n",
    "\n",
    "# Leer archivo desde ruta relativa\n",
    "import pandas as pd\n",
    "df = pd.read_csv(Path(\"data\") / \"hipathia_output.csv\")"
   ]
  },
  {
   "cell_type": "code",
   "execution_count": null,
   "id": "b092ee5d-6a60-43f2-9729-4d8dfa86197d",
   "metadata": {},
   "outputs": [],
   "source": []
  }
 ],
 "metadata": {
  "kernelspec": {
   "display_name": "Python (UPO_TFM)",
   "language": "python",
   "name": "upo_tfm"
  },
  "language_info": {
   "codemirror_mode": {
    "name": "ipython",
    "version": 3
   },
   "file_extension": ".py",
   "mimetype": "text/x-python",
   "name": "python",
   "nbconvert_exporter": "python",
   "pygments_lexer": "ipython3",
   "version": "3.10.18"
  }
 },
 "nbformat": 4,
 "nbformat_minor": 5
}
